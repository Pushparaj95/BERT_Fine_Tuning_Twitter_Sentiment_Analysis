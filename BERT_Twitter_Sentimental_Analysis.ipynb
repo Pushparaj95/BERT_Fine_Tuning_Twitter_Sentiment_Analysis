{
 "cells": [
  {
   "cell_type": "code",
   "execution_count": null,
   "metadata": {
    "colab": {
     "base_uri": "https://localhost:8080/"
    },
    "collapsed": true,
    "id": "g9obZ4QmB96C",
    "outputId": "510bfa2b-34ad-4c23-ce3c-05a51e89db84"
   },
   "outputs": [],
   "source": [
    "!pip install -U transformers\n",
    "!pip install -U accelerate\n",
    "!pip install -U datasets\n",
    "!pip install -U bertviz\n",
    "!pip install -U umap-learn\n",
    "!pip install seaborn --upgrade"
   ]
  },
  {
   "cell_type": "code",
   "execution_count": 5,
   "metadata": {
    "id": "t7et8ZSGCNhi"
   },
   "outputs": [],
   "source": [
    "import pandas as pd\n",
    "\n",
    "df = pd.read_csv(\"dataset/twitter_multi_class_sentiment.csv\")"
   ]
  },
  {
   "cell_type": "code",
   "execution_count": 3,
   "metadata": {
    "colab": {
     "base_uri": "https://localhost:8080/",
     "height": 206
    },
    "id": "gZg50INdCOQV",
    "outputId": "b3613763-340f-444b-f5af-a53bd3eaa270"
   },
   "outputs": [
    {
     "data": {
      "text/html": [
       "<div>\n",
       "<style scoped>\n",
       "    .dataframe tbody tr th:only-of-type {\n",
       "        vertical-align: middle;\n",
       "    }\n",
       "\n",
       "    .dataframe tbody tr th {\n",
       "        vertical-align: top;\n",
       "    }\n",
       "\n",
       "    .dataframe thead th {\n",
       "        text-align: right;\n",
       "    }\n",
       "</style>\n",
       "<table border=\"1\" class=\"dataframe\">\n",
       "  <thead>\n",
       "    <tr style=\"text-align: right;\">\n",
       "      <th></th>\n",
       "      <th>text</th>\n",
       "      <th>label</th>\n",
       "      <th>label_name</th>\n",
       "    </tr>\n",
       "  </thead>\n",
       "  <tbody>\n",
       "    <tr>\n",
       "      <th>0</th>\n",
       "      <td>i didnt feel humiliated</td>\n",
       "      <td>0</td>\n",
       "      <td>sadness</td>\n",
       "    </tr>\n",
       "    <tr>\n",
       "      <th>1</th>\n",
       "      <td>i can go from feeling so hopeless to so damned...</td>\n",
       "      <td>0</td>\n",
       "      <td>sadness</td>\n",
       "    </tr>\n",
       "    <tr>\n",
       "      <th>2</th>\n",
       "      <td>im grabbing a minute to post i feel greedy wrong</td>\n",
       "      <td>3</td>\n",
       "      <td>anger</td>\n",
       "    </tr>\n",
       "    <tr>\n",
       "      <th>3</th>\n",
       "      <td>i am ever feeling nostalgic about the fireplac...</td>\n",
       "      <td>2</td>\n",
       "      <td>love</td>\n",
       "    </tr>\n",
       "    <tr>\n",
       "      <th>4</th>\n",
       "      <td>i am feeling grouchy</td>\n",
       "      <td>3</td>\n",
       "      <td>anger</td>\n",
       "    </tr>\n",
       "  </tbody>\n",
       "</table>\n",
       "</div>"
      ],
      "text/plain": [
       "                                                text  label label_name\n",
       "0                            i didnt feel humiliated      0    sadness\n",
       "1  i can go from feeling so hopeless to so damned...      0    sadness\n",
       "2   im grabbing a minute to post i feel greedy wrong      3      anger\n",
       "3  i am ever feeling nostalgic about the fireplac...      2       love\n",
       "4                               i am feeling grouchy      3      anger"
      ]
     },
     "execution_count": 3,
     "metadata": {},
     "output_type": "execute_result"
    }
   ],
   "source": [
    "df.head()"
   ]
  },
  {
   "cell_type": "code",
   "execution_count": 5,
   "metadata": {
    "colab": {
     "base_uri": "https://localhost:8080/"
    },
    "id": "DkUHE2KyCzu0",
    "outputId": "c7e48dc7-f548-4fea-d4bf-e0b4268c4af0"
   },
   "outputs": [
    {
     "name": "stdout",
     "output_type": "stream",
     "text": [
      "<class 'pandas.core.frame.DataFrame'>\n",
      "RangeIndex: 16000 entries, 0 to 15999\n",
      "Data columns (total 3 columns):\n",
      " #   Column      Non-Null Count  Dtype \n",
      "---  ------      --------------  ----- \n",
      " 0   text        16000 non-null  object\n",
      " 1   label       16000 non-null  int64 \n",
      " 2   label_name  16000 non-null  object\n",
      "dtypes: int64(1), object(2)\n",
      "memory usage: 375.1+ KB\n"
     ]
    }
   ],
   "source": [
    "df.info()"
   ]
  },
  {
   "cell_type": "code",
   "execution_count": 6,
   "metadata": {
    "colab": {
     "base_uri": "https://localhost:8080/",
     "height": 178
    },
    "id": "WrV10C2CC3lr",
    "outputId": "5e56badc-636f-4aca-f7c2-b1e3a69eb6ff"
   },
   "outputs": [
    {
     "data": {
      "text/html": [
       "<div>\n",
       "<style scoped>\n",
       "    .dataframe tbody tr th:only-of-type {\n",
       "        vertical-align: middle;\n",
       "    }\n",
       "\n",
       "    .dataframe tbody tr th {\n",
       "        vertical-align: top;\n",
       "    }\n",
       "\n",
       "    .dataframe thead th {\n",
       "        text-align: right;\n",
       "    }\n",
       "</style>\n",
       "<table border=\"1\" class=\"dataframe\">\n",
       "  <thead>\n",
       "    <tr style=\"text-align: right;\">\n",
       "      <th></th>\n",
       "      <th>0</th>\n",
       "    </tr>\n",
       "  </thead>\n",
       "  <tbody>\n",
       "    <tr>\n",
       "      <th>text</th>\n",
       "      <td>0</td>\n",
       "    </tr>\n",
       "    <tr>\n",
       "      <th>label</th>\n",
       "      <td>0</td>\n",
       "    </tr>\n",
       "    <tr>\n",
       "      <th>label_name</th>\n",
       "      <td>0</td>\n",
       "    </tr>\n",
       "  </tbody>\n",
       "</table>\n",
       "</div><br><label><b>dtype:</b> int64</label>"
      ],
      "text/plain": [
       "text          0\n",
       "label         0\n",
       "label_name    0\n",
       "dtype: int64"
      ]
     },
     "execution_count": 6,
     "metadata": {},
     "output_type": "execute_result"
    }
   ],
   "source": [
    "df.isna().sum()"
   ]
  },
  {
   "cell_type": "code",
   "execution_count": 6,
   "metadata": {
    "colab": {
     "base_uri": "https://localhost:8080/",
     "height": 303
    },
    "id": "sNP6A7k4C5K-",
    "outputId": "10b52a0b-fb30-4e40-9b5a-76cbd3c1f851"
   },
   "outputs": [
    {
     "data": {
      "text/plain": [
       "label\n",
       "0    4666\n",
       "1    5362\n",
       "2    1304\n",
       "3    2159\n",
       "4    1937\n",
       "5     572\n",
       "Name: count, dtype: int64"
      ]
     },
     "execution_count": 6,
     "metadata": {},
     "output_type": "execute_result"
    }
   ],
   "source": [
    "df['label'].value_counts().sort_index()"
   ]
  },
  {
   "cell_type": "code",
   "execution_count": 8,
   "metadata": {
    "id": "Fxii02iDC9AE"
   },
   "outputs": [],
   "source": [
    "import matplotlib.pyplot as plt"
   ]
  },
  {
   "cell_type": "code",
   "execution_count": 9,
   "metadata": {
    "colab": {
     "base_uri": "https://localhost:8080/",
     "height": 452
    },
    "id": "dFRzu59xFcDQ",
    "outputId": "6baf8478-4c55-4864-defa-20db48c989f4"
   },
   "outputs": [
    {
     "data": {
      "image/png": "[encoded data removed]",
      "text/plain": [
       "<Figure size 640x480 with 1 Axes>"
      ]
     },
     "metadata": {},
     "output_type": "display_data"
    }
   ],
   "source": [
    "label_count = df['label'].value_counts().sort_values(ascending=True)\n",
    "\n",
    "label_count.plot(kind='barh')\n",
    "plt.title('Frequency of Classes')\n",
    "plt.show()"
   ]
  },
  {
   "cell_type": "code",
   "execution_count": 7,
   "metadata": {
    "id": "agKA-oa0GQ7Q"
   },
   "outputs": [],
   "source": [
    "df['words_per_tweet'] = df['text'].str.split().apply(len)"
   ]
  },
  {
   "cell_type": "code",
   "execution_count": 11,
   "metadata": {
    "colab": {
     "base_uri": "https://localhost:8080/",
     "height": 495
    },
    "id": "l-uZd8DAGjgL",
    "outputId": "38d1d6b8-0a9e-4f89-8b47-5e5853b3b5e6"
   },
   "outputs": [
    {
     "data": {
      "text/plain": [
       "<Axes: title={'center': 'words_per_tweet'}, xlabel='label_name'>"
      ]
     },
     "execution_count": 11,
     "metadata": {},
     "output_type": "execute_result"
    },
    {
     "data": {
      "image/png": "[encoded data removed]",
      "text/plain": [
       "<Figure size 640x480 with 1 Axes>"
      ]
     },
     "metadata": {},
     "output_type": "display_data"
    }
   ],
   "source": [
    "df.boxplot('words_per_tweet', by = 'label_name')"
   ]
  },
  {
   "cell_type": "markdown",
   "metadata": {
    "id": "d2fIGx5NMO54"
   },
   "source": [
    "AutoTokenizer is a powerful tool that automatically selects the appropriate tokenizer based on the model you specify."
   ]
  },
  {
   "cell_type": "code",
   "execution_count": 8,
   "metadata": {
    "colab": {
     "base_uri": "https://localhost:8080/",
     "height": 287,
     "referenced_widgets": [
      "92257fc9aca34ac791153e3b245734b0",
      "295cb997f57d40be8ce0c2ebe175ceeb",
      "bc33f174d37443c0b3b5719bd55d6384",
      "99ac49edfdd846a0af7b218c3a8dd9e0",
      "e90981e8a8df4e2586c70b16bc0558eb",
      "1aa740932a8e44939c0c1fbd4b5aaaeb",
      "baa61f4ee219414a914c5ad52aa343a9",
      "8ee05b5a8d534002b1b266252e6cdac4",
      "ef3f1c7325f94344861db7713260ffd0",
      "c19652ec8b124e0fbe8387682b5e6d39",
      "5a8ce8da9bf14fbb820019bbae67c6e9",
      "05a69711f9c94a8b90853c936409016f",
      "bcd96409205f4c7789b5ed59e833da92",
      "392fa5c17de44988ad6431309737c8ba",
      "6e3e2f123fa1453d9bf19d53838a7ff7",
      "3d0e30a25ebc43e3b74fdfdd6fbc6262",
      "f0dd5404e3324e78bd8cfb5aee1e6bda",
      "72c760be672941039b98b7c6a52bec4b",
      "f20d598af6f74435bf98b866cdbf1a26",
      "2f0cb7f98a6642e592ce0b82a308f4b8",
      "eb1837ae7dcd4690a3b148393d2c7c79",
      "489575a2c7bb499db312a34a9e941990",
      "ded367cfca954d3b8dc36f8110b25753",
      "cd8452bf02af48a5af6a6a4a88e6225e",
      "63ef44da37d04654a9eda8fc29c26a40",
      "7d4acf5b6b8c4bbca835c06784705933",
      "00f8dd2b840d4732b9d5bb3f7f1302be",
      "46ff8af075324a7988962bdedd75defd",
      "846dd9410aa043569b6bb3f88c52ef0e",
      "be90724cdb974a9e9f5aef965b21d224",
      "9b341bbe380847c1847517f6ad5f5634",
      "a1e28bd7e4644d729c7dbdba0aa999b2",
      "c004a5885c354195bf2ea429a09587b3",
      "547a98f432d449fba71e4b12d98770f5",
      "c261e29c75bc4dbc832b628581e2025d",
      "171151a5807742a4ba791e3dab1cc340",
      "f3a0cc4b93344e0988bca07b735bb1fe",
      "204b82566c80448ea12a5db4ccada1c6",
      "20e2aa1d51254c99a6136fdefe9c899a",
      "5d2c33f13f364376964033428f754d65",
      "44cce5f3b7f841aa9d7e8bb676564884",
      "00cb6187d1b4478c8285821a115f7fe1",
      "9ff430c4943f4f00a1ae1bc6bf5f2798",
      "c4dc3fe030774e4584ee51da35db9243"
     ]
    },
    "id": "YJ404sbfG5XJ",
    "outputId": "e2793b7c-1169-4014-ea23-dfd04765fd2e"
   },
   "outputs": [
    {
     "name": "stderr",
     "output_type": "stream",
     "text": [
      "c:\\Users\\RAJ\\AppData\\Local\\Programs\\Python\\Python312\\Lib\\site-packages\\tqdm\\auto.py:21: TqdmWarning: IProgress not found. Please update jupyter and ipywidgets. See https://ipywidgets.readthedocs.io/en/stable/user_install.html\n",
      "  from .autonotebook import tqdm as notebook_tqdm\n",
      "c:\\Users\\RAJ\\AppData\\Local\\Programs\\Python\\Python312\\Lib\\site-packages\\huggingface_hub\\file_download.py:144: UserWarning: `huggingface_hub` cache-system uses symlinks by default to efficiently store duplicated files but your machine does not support them in C:\\Users\\RAJ\\.cache\\huggingface\\hub\\models--bert-base-uncased. Caching files will still work but in a degraded version that might require more space on your disk. This warning can be disabled by setting the `HF_HUB_DISABLE_SYMLINKS_WARNING` environment variable. For more details, see https://huggingface.co/docs/huggingface_hub/how-to-cache#limitations.\n",
      "To support symlinks on Windows, you either need to activate Developer Mode or to run Python as an administrator. In order to activate developer mode, see this article: https://docs.microsoft.com/en-us/windows/apps/get-started/enable-your-device-for-development\n",
      "  warnings.warn(message)\n"
     ]
    },
    {
     "name": "stdout",
     "output_type": "stream",
     "text": [
      "{'input_ids': [101, 1045, 2293, 3698, 4083, 999, 19204, 3989, 2003, 12476, 999, 999, 102], 'token_type_ids': [0, 0, 0, 0, 0, 0, 0, 0, 0, 0, 0, 0, 0], 'attention_mask': [1, 1, 1, 1, 1, 1, 1, 1, 1, 1, 1, 1, 1]}\n"
     ]
    }
   ],
   "source": [
    "from transformers import AutoTokenizer\n",
    "\n",
    "model_ckpt = \"bert-base-uncased\"\n",
    "tokenizer = AutoTokenizer.from_pretrained(model_ckpt)\n",
    "\n",
    "\n",
    "text = \"I love machine learning! Tokenization is awesome!!\"\n",
    "encoded_text = tokenizer(text)\n",
    "print(encoded_text)"
   ]
  },
  {
   "cell_type": "code",
   "execution_count": 13,
   "metadata": {
    "colab": {
     "base_uri": "https://localhost:8080/"
    },
    "id": "J81U5N__LDeW",
    "outputId": "2766d6ae-a5d6-42b0-c45c-2f958ef4d04a"
   },
   "outputs": [
    {
     "data": {
      "text/plain": [
       "(30522, 30522, 512)"
      ]
     },
     "execution_count": 13,
     "metadata": {},
     "output_type": "execute_result"
    }
   ],
   "source": [
    "len(tokenizer.vocab), tokenizer.vocab_size, tokenizer.model_max_length"
   ]
  },
  {
   "cell_type": "markdown",
   "metadata": {
    "id": "cSjAOaqaLmBv"
   },
   "source": [
    "*    **tokenizer.vocab:** This is an attribute of the tokenizer object and likely   represents the vocabulary as a dictionary-like structure where words (or tokens) are keys and their corresponding IDs are values.\n",
    "*    **len(tokenizer.vocab):** This part of the code calculates the length of the vocabulary, essentially telling you how many unique words or tokens the tokenizer recognizes.\n",
    "*    **tokenizer.vocab_size**: This is another attribute that directly provides the size of the tokenizer's vocabulary. It should give you the same result as len(tokenizer.vocab).\n",
    "*    **tokenizer.model_max_length:** This attribute specifies the maximum number of tokens that can be input to the BERT model. If your input text has more tokens than this limit, you'll need to truncate it.\n"
   ]
  },
  {
   "cell_type": "markdown",
   "metadata": {
    "id": "aVJt3FenO0uC"
   },
   "source": [
    "## Data Loader and Train Test Split"
   ]
  },
  {
   "cell_type": "markdown",
   "metadata": {
    "id": "zR444Nr-O_Ys"
   },
   "source": [
    "stratify=df['label_name']: This ensures that the proportion of each class (represented by the 'label_name' column) is maintained in both the training and testing sets. This is important for balanced model training."
   ]
  },
  {
   "cell_type": "code",
   "execution_count": 14,
   "metadata": {
    "colab": {
     "base_uri": "https://localhost:8080/"
    },
    "id": "WMO3mj2YLy8d",
    "outputId": "36eb765e-6399-4126-ccc8-208a79ea022f"
   },
   "outputs": [
    {
     "data": {
      "text/plain": [
       "((11200, 4), (3200, 4), (1600, 4))"
      ]
     },
     "execution_count": 14,
     "metadata": {},
     "output_type": "execute_result"
    }
   ],
   "source": [
    "from sklearn.model_selection import train_test_split\n",
    "\n",
    "train, test = train_test_split(df, test_size=0.3, stratify=df['label_name'])\n",
    "test, validation = train_test_split(test, test_size=1/3, stratify=test['label_name'])\n",
    "\n",
    "train.shape, test.shape, validation.shape"
   ]
  },
  {
   "cell_type": "code",
   "execution_count": 15,
   "metadata": {
    "colab": {
     "base_uri": "https://localhost:8080/"
    },
    "id": "lB0jhE5qPLK9",
    "outputId": "9f2fdc2c-1a95-424c-94eb-c0a0d1c77166"
   },
   "outputs": [
    {
     "data": {
      "text/plain": [
       "DatasetDict({\n",
       "    train: Dataset({\n",
       "        features: ['text', 'label', 'label_name', 'words_per_tweet'],\n",
       "        num_rows: 11200\n",
       "    })\n",
       "    test: Dataset({\n",
       "        features: ['text', 'label', 'label_name', 'words_per_tweet'],\n",
       "        num_rows: 3200\n",
       "    })\n",
       "    validation: Dataset({\n",
       "        features: ['text', 'label', 'label_name', 'words_per_tweet'],\n",
       "        num_rows: 1600\n",
       "    })\n",
       "})"
      ]
     },
     "execution_count": 15,
     "metadata": {},
     "output_type": "execute_result"
    }
   ],
   "source": [
    "from datasets import Dataset, DatasetDict\n",
    "\n",
    "dataset = DatasetDict(\n",
    "    {'train':Dataset.from_pandas(train, preserve_index=False),\n",
    "     'test':Dataset.from_pandas(test, preserve_index=False),\n",
    "     'validation': Dataset.from_pandas(validation, preserve_index=False)\n",
    "     }\n",
    "\n",
    ")\n",
    "\n",
    "dataset"
   ]
  },
  {
   "cell_type": "markdown",
   "metadata": {
    "id": "5_C-MxmUTllO"
   },
   "source": [
    "## Tokenization of the Emotion/Sentiment Data"
   ]
  },
  {
   "cell_type": "code",
   "execution_count": 16,
   "metadata": {
    "colab": {
     "base_uri": "https://localhost:8080/"
    },
    "id": "W90pbz4eTl-p",
    "outputId": "283a3d85-c2aa-4dbf-b8c1-b4241ed1443a"
   },
   "outputs": [
    {
     "data": {
      "text/plain": [
       "({'text': 'i have definitely felt the stirrings of spring and although i expect more winter weather in march i feel assured that the seasons are changing',\n",
       "  'label': 1,\n",
       "  'label_name': 'joy',\n",
       "  'words_per_tweet': 25},\n",
       " {'text': 'i apologize to anyone who may feel i have been a neglectful slacker mcslackerson',\n",
       "  'label': 0,\n",
       "  'label_name': 'sadness',\n",
       "  'words_per_tweet': 14})"
      ]
     },
     "execution_count": 16,
     "metadata": {},
     "output_type": "execute_result"
    }
   ],
   "source": [
    "dataset['train'][0], dataset['train'][1]"
   ]
  },
  {
   "cell_type": "code",
   "execution_count": 17,
   "metadata": {
    "id": "6sqs77nYTnnP"
   },
   "outputs": [],
   "source": [
    "def tokenize(batch):\n",
    "  temp = tokenizer(batch['text'], padding=True, truncation=True)\n",
    "  return temp"
   ]
  },
  {
   "cell_type": "code",
   "execution_count": 18,
   "metadata": {
    "colab": {
     "base_uri": "https://localhost:8080/"
    },
    "id": "IStsBprgT43j",
    "outputId": "7cd53d65-fd42-408f-be03-2b219de20eaa"
   },
   "outputs": [
    {
     "name": "stdout",
     "output_type": "stream",
     "text": [
      "{'input_ids': [[101, 1045, 2031, 5791, 2371, 1996, 18385, 2015, 1997, 3500, 1998, 2348, 1045, 5987, 2062, 3467, 4633, 1999, 2233, 1045, 2514, 8916, 2008, 1996, 3692, 2024, 5278, 102], [101, 1045, 12134, 2000, 3087, 2040, 2089, 2514, 1045, 2031, 2042, 1037, 19046, 3993, 19840, 2121, 11338, 14540, 25418, 3385, 102, 0, 0, 0, 0, 0, 0, 0]], 'token_type_ids': [[0, 0, 0, 0, 0, 0, 0, 0, 0, 0, 0, 0, 0, 0, 0, 0, 0, 0, 0, 0, 0, 0, 0, 0, 0, 0, 0, 0], [0, 0, 0, 0, 0, 0, 0, 0, 0, 0, 0, 0, 0, 0, 0, 0, 0, 0, 0, 0, 0, 0, 0, 0, 0, 0, 0, 0]], 'attention_mask': [[1, 1, 1, 1, 1, 1, 1, 1, 1, 1, 1, 1, 1, 1, 1, 1, 1, 1, 1, 1, 1, 1, 1, 1, 1, 1, 1, 1], [1, 1, 1, 1, 1, 1, 1, 1, 1, 1, 1, 1, 1, 1, 1, 1, 1, 1, 1, 1, 1, 0, 0, 0, 0, 0, 0, 0]]}\n"
     ]
    }
   ],
   "source": [
    "print(tokenize(dataset['train'][:2]))"
   ]
  },
  {
   "cell_type": "code",
   "execution_count": 19,
   "metadata": {
    "colab": {
     "base_uri": "https://localhost:8080/",
     "height": 217,
     "referenced_widgets": [
      "8f3da55d60164ce4832370d463c1530a",
      "1af9d20b96864971b114c5007d10d9a7",
      "2d477b75c0174722b0c3aa0277e2791d",
      "95dcca9fab7a460c95426d185eed0853",
      "80cdc3bf47ed44f68ad1c3a106c49e9a",
      "8742957f908540ddaa32a7d05f7bf0c3",
      "5f22b509103f4171b6d4469a55fe2d1e",
      "29f5d8c09dc140e192a20fc991edefb3",
      "bba38b2f2ea240de86d5808bc194763c",
      "92b19ee942fa4973bc6da3ff24eae54a",
      "415fab653c914e6e97abb89fa0baaf6c",
      "0c735e273055477bb1d75c2f27943638",
      "6f8e1130560645eb8812935d7279ba19",
      "65cf2f8b5578437f841bd22975dd8580",
      "280f5ce82a924999901f4ab2e0c878b8",
      "609b63473fad41278d7cc27340103ed5",
      "999f64d0ad1b45168900f0c0c56baf9b",
      "68c0d3d9d7934425a8a23003e0b46562",
      "cf2a5b9ca4bc4e8190787c7273063a4f",
      "c5805392cb5d400ca3e84fa6858a1c39",
      "9643057733504bf0ab6707f591961418",
      "1b80a812286847b7a01c8bfb231d92d4",
      "13dc72dcde0e4f2f8d7ecbf7e47b5f44",
      "3c31db8d41f4445dac50e8f639b37190",
      "61aec40f353141248122ecef4a027750",
      "98dc02e5e6614f3aabce5edc52d4d92b",
      "a51fa5f3a2694d37b52998ca8167d643",
      "dfed1802be8948a488d46660a57f9d8f",
      "555f10aa587449ad92053530e852d85b",
      "e88cb21f5ff44722a83febbc50239f90",
      "ac7db9d04a7a415aa019694781a43c9a",
      "09974cc8eb3c400d91b90fbc30680bff",
      "6fe7a588c8914769ae1d4eff7c14c1c0"
     ]
    },
    "id": "K8-30yW5UCiz",
    "outputId": "31ef597b-157a-46f7-e05f-42de0f8df8d9"
   },
   "outputs": [
    {
     "data": {
      "application/vnd.jupyter.widget-view+json": {
       "model_id": "8f3da55d60164ce4832370d463c1530a",
       "version_major": 2,
       "version_minor": 0
      },
      "text/plain": [
       "Map:   0%|          | 0/11200 [00:00<?, ? examples/s]"
      ]
     },
     "metadata": {},
     "output_type": "display_data"
    },
    {
     "data": {
      "application/vnd.jupyter.widget-view+json": {
       "model_id": "0c735e273055477bb1d75c2f27943638",
       "version_major": 2,
       "version_minor": 0
      },
      "text/plain": [
       "Map:   0%|          | 0/3200 [00:00<?, ? examples/s]"
      ]
     },
     "metadata": {},
     "output_type": "display_data"
    },
    {
     "data": {
      "application/vnd.jupyter.widget-view+json": {
       "model_id": "13dc72dcde0e4f2f8d7ecbf7e47b5f44",
       "version_major": 2,
       "version_minor": 0
      },
      "text/plain": [
       "Map:   0%|          | 0/1600 [00:00<?, ? examples/s]"
      ]
     },
     "metadata": {},
     "output_type": "display_data"
    }
   ],
   "source": [
    "emotion_encoded = dataset.map(tokenize, batched=True, batch_size=None)"
   ]
  },
  {
   "cell_type": "code",
   "execution_count": 20,
   "metadata": {
    "colab": {
     "base_uri": "https://localhost:8080/"
    },
    "id": "RVHQrCKsUE5K",
    "outputId": "aae92fcd-aefb-4bc6-c700-3169399f0c89"
   },
   "outputs": [
    {
     "data": {
      "text/plain": [
       "DatasetDict({\n",
       "    train: Dataset({\n",
       "        features: ['text', 'label', 'label_name', 'words_per_tweet', 'input_ids', 'token_type_ids', 'attention_mask'],\n",
       "        num_rows: 11200\n",
       "    })\n",
       "    test: Dataset({\n",
       "        features: ['text', 'label', 'label_name', 'words_per_tweet', 'input_ids', 'token_type_ids', 'attention_mask'],\n",
       "        num_rows: 3200\n",
       "    })\n",
       "    validation: Dataset({\n",
       "        features: ['text', 'label', 'label_name', 'words_per_tweet', 'input_ids', 'token_type_ids', 'attention_mask'],\n",
       "        num_rows: 1600\n",
       "    })\n",
       "})"
      ]
     },
     "execution_count": 20,
     "metadata": {},
     "output_type": "execute_result"
    }
   ],
   "source": [
    "emotion_encoded"
   ]
  },
  {
   "cell_type": "code",
   "execution_count": 21,
   "metadata": {
    "colab": {
     "base_uri": "https://localhost:8080/"
    },
    "id": "VA5C2fSqUmpL",
    "outputId": "90f12310-42ad-42e2-de08-e04627a6ad0f"
   },
   "outputs": [
    {
     "data": {
      "text/plain": [
       "({'joy': 1, 'sadness': 0, 'anger': 3, 'fear': 4, 'love': 2, 'surprise': 5},\n",
       " {1: 'joy', 0: 'sadness', 3: 'anger', 4: 'fear', 2: 'love', 5: 'surprise'})"
      ]
     },
     "execution_count": 21,
     "metadata": {},
     "output_type": "execute_result"
    }
   ],
   "source": [
    "# label2id, id2label\n",
    "label2id = {x['label_name']:x['label'] for x in dataset['train']}\n",
    "id2label = {v:k for k,v in label2id.items()}\n",
    "\n",
    "label2id, id2label"
   ]
  },
  {
   "cell_type": "markdown",
   "metadata": {
    "id": "hWcivm1xUqO6"
   },
   "source": [
    "## Model Building"
   ]
  },
  {
   "cell_type": "code",
   "execution_count": 22,
   "metadata": {
    "id": "8GAfj1BIUolh"
   },
   "outputs": [],
   "source": [
    "from transformers import AutoModel\n",
    "import torch"
   ]
  },
  {
   "cell_type": "code",
   "execution_count": 23,
   "metadata": {
    "colab": {
     "base_uri": "https://localhost:8080/",
     "height": 132,
     "referenced_widgets": [
      "d25e200a03654ce38c7bb0237c07c932",
      "d3b7369897b54b1291ee776c2edf2106",
      "e208d41bc28b406f88ed2a7f78365604",
      "e6aa68f099e2480987e6ecb06f8110e6",
      "b89d62d110304af88b2fd99280be157d",
      "3de5144c1402474089a8f998fdd5f563",
      "090861808ca44e27a8b10cecc5523a08",
      "dd110a72c0eb45a8a0b7812feac84469",
      "16aa1562b6fa44d8a145af7dfcc3712e",
      "ca3d457071d5452caa87835b8d403f1c",
      "5da6109a46a747d6920037650287ef82"
     ]
    },
    "id": "Ie5B9CbJe7re",
    "outputId": "c021cbeb-e0d5-4e4f-f895-79d958cd3164"
   },
   "outputs": [
    {
     "name": "stderr",
     "output_type": "stream",
     "text": [
      "Xet Storage is enabled for this repo, but the 'hf_xet' package is not installed. Falling back to regular HTTP download. For better performance, install the package with: `pip install huggingface_hub[hf_xet]` or `pip install hf_xet`\n",
      "WARNING:huggingface_hub.file_download:Xet Storage is enabled for this repo, but the 'hf_xet' package is not installed. Falling back to regular HTTP download. For better performance, install the package with: `pip install huggingface_hub[hf_xet]` or `pip install hf_xet`\n"
     ]
    },
    {
     "data": {
      "application/vnd.jupyter.widget-view+json": {
       "model_id": "d25e200a03654ce38c7bb0237c07c932",
       "version_major": 2,
       "version_minor": 0
      },
      "text/plain": [
       "model.safetensors:   0%|          | 0.00/440M [00:00<?, ?B/s]"
      ]
     },
     "metadata": {},
     "output_type": "display_data"
    }
   ],
   "source": [
    "model = AutoModel.from_pretrained(model_ckpt)"
   ]
  },
  {
   "cell_type": "code",
   "execution_count": 24,
   "metadata": {
    "colab": {
     "base_uri": "https://localhost:8080/"
    },
    "id": "h8humnSmgdvO",
    "outputId": "3070bbb9-3a76-459e-cac7-f4ab89e24778"
   },
   "outputs": [
    {
     "data": {
      "text/plain": [
       "BertModel(\n",
       "  (embeddings): BertEmbeddings(\n",
       "    (word_embeddings): Embedding(30522, 768, padding_idx=0)\n",
       "    (position_embeddings): Embedding(512, 768)\n",
       "    (token_type_embeddings): Embedding(2, 768)\n",
       "    (LayerNorm): LayerNorm((768,), eps=1e-12, elementwise_affine=True)\n",
       "    (dropout): Dropout(p=0.1, inplace=False)\n",
       "  )\n",
       "  (encoder): BertEncoder(\n",
       "    (layer): ModuleList(\n",
       "      (0-11): 12 x BertLayer(\n",
       "        (attention): BertAttention(\n",
       "          (self): BertSdpaSelfAttention(\n",
       "            (query): Linear(in_features=768, out_features=768, bias=True)\n",
       "            (key): Linear(in_features=768, out_features=768, bias=True)\n",
       "            (value): Linear(in_features=768, out_features=768, bias=True)\n",
       "            (dropout): Dropout(p=0.1, inplace=False)\n",
       "          )\n",
       "          (output): BertSelfOutput(\n",
       "            (dense): Linear(in_features=768, out_features=768, bias=True)\n",
       "            (LayerNorm): LayerNorm((768,), eps=1e-12, elementwise_affine=True)\n",
       "            (dropout): Dropout(p=0.1, inplace=False)\n",
       "          )\n",
       "        )\n",
       "        (intermediate): BertIntermediate(\n",
       "          (dense): Linear(in_features=768, out_features=3072, bias=True)\n",
       "          (intermediate_act_fn): GELUActivation()\n",
       "        )\n",
       "        (output): BertOutput(\n",
       "          (dense): Linear(in_features=3072, out_features=768, bias=True)\n",
       "          (LayerNorm): LayerNorm((768,), eps=1e-12, elementwise_affine=True)\n",
       "          (dropout): Dropout(p=0.1, inplace=False)\n",
       "        )\n",
       "      )\n",
       "    )\n",
       "  )\n",
       "  (pooler): BertPooler(\n",
       "    (dense): Linear(in_features=768, out_features=768, bias=True)\n",
       "    (activation): Tanh()\n",
       "  )\n",
       ")"
      ]
     },
     "execution_count": 24,
     "metadata": {},
     "output_type": "execute_result"
    }
   ],
   "source": [
    "model"
   ]
  },
  {
   "cell_type": "code",
   "execution_count": 25,
   "metadata": {
    "colab": {
     "base_uri": "https://localhost:8080/"
    },
    "id": "QSltPklYe-zD",
    "outputId": "68b8512b-5a88-488b-b1a0-69b7e8390063"
   },
   "outputs": [
    {
     "data": {
      "text/plain": [
       "BertConfig {\n",
       "  \"_attn_implementation_autoset\": true,\n",
       "  \"architectures\": [\n",
       "    \"BertForMaskedLM\"\n",
       "  ],\n",
       "  \"attention_probs_dropout_prob\": 0.1,\n",
       "  \"classifier_dropout\": null,\n",
       "  \"gradient_checkpointing\": false,\n",
       "  \"hidden_act\": \"gelu\",\n",
       "  \"hidden_dropout_prob\": 0.1,\n",
       "  \"hidden_size\": 768,\n",
       "  \"initializer_range\": 0.02,\n",
       "  \"intermediate_size\": 3072,\n",
       "  \"layer_norm_eps\": 1e-12,\n",
       "  \"max_position_embeddings\": 512,\n",
       "  \"model_type\": \"bert\",\n",
       "  \"num_attention_heads\": 12,\n",
       "  \"num_hidden_layers\": 12,\n",
       "  \"pad_token_id\": 0,\n",
       "  \"position_embedding_type\": \"absolute\",\n",
       "  \"torch_dtype\": \"float32\",\n",
       "  \"transformers_version\": \"4.50.3\",\n",
       "  \"type_vocab_size\": 2,\n",
       "  \"use_cache\": true,\n",
       "  \"vocab_size\": 30522\n",
       "}"
      ]
     },
     "execution_count": 25,
     "metadata": {},
     "output_type": "execute_result"
    }
   ],
   "source": [
    "model.config\n"
   ]
  },
  {
   "cell_type": "markdown",
   "metadata": {
    "id": "EGJh0rv4h84g"
   },
   "source": [
    "## Fine-Tuning Transformers"
   ]
  },
  {
   "cell_type": "code",
   "execution_count": 26,
   "metadata": {
    "colab": {
     "base_uri": "https://localhost:8080/"
    },
    "id": "68KaTr6AgucF",
    "outputId": "49aa6387-7166-4d58-f4a9-27b302426b01"
   },
   "outputs": [
    {
     "name": "stderr",
     "output_type": "stream",
     "text": [
      "Some weights of BertForSequenceClassification were not initialized from the model checkpoint at bert-base-uncased and are newly initialized: ['classifier.bias', 'classifier.weight']\n",
      "You should probably TRAIN this model on a down-stream task to be able to use it for predictions and inference.\n"
     ]
    }
   ],
   "source": [
    "from transformers import AutoModelForSequenceClassification, AutoConfig\n",
    "\n",
    "num_labels = len(label2id)\n",
    "device = torch.device(\"cuda\" if torch.cuda.is_available() else \"cpu\")\n",
    "config = AutoConfig.from_pretrained(model_ckpt, label2id=label2id, id2label=id2label)\n",
    "model = AutoModelForSequenceClassification.from_pretrained(model_ckpt, config=config).to(device)"
   ]
  },
  {
   "cell_type": "code",
   "execution_count": 27,
   "metadata": {
    "colab": {
     "base_uri": "https://localhost:8080/"
    },
    "id": "vxN8PvJ3iFAQ",
    "outputId": "38b42a49-e344-44b2-9762-38b0c48d6bbf"
   },
   "outputs": [
    {
     "data": {
      "text/plain": [
       "BertConfig {\n",
       "  \"_attn_implementation_autoset\": true,\n",
       "  \"architectures\": [\n",
       "    \"BertForMaskedLM\"\n",
       "  ],\n",
       "  \"attention_probs_dropout_prob\": 0.1,\n",
       "  \"classifier_dropout\": null,\n",
       "  \"gradient_checkpointing\": false,\n",
       "  \"hidden_act\": \"gelu\",\n",
       "  \"hidden_dropout_prob\": 0.1,\n",
       "  \"hidden_size\": 768,\n",
       "  \"id2label\": {\n",
       "    \"0\": \"sadness\",\n",
       "    \"1\": \"joy\",\n",
       "    \"2\": \"love\",\n",
       "    \"3\": \"anger\",\n",
       "    \"4\": \"fear\",\n",
       "    \"5\": \"surprise\"\n",
       "  },\n",
       "  \"initializer_range\": 0.02,\n",
       "  \"intermediate_size\": 3072,\n",
       "  \"label2id\": {\n",
       "    \"anger\": 3,\n",
       "    \"fear\": 4,\n",
       "    \"joy\": 1,\n",
       "    \"love\": 2,\n",
       "    \"sadness\": 0,\n",
       "    \"surprise\": 5\n",
       "  },\n",
       "  \"layer_norm_eps\": 1e-12,\n",
       "  \"max_position_embeddings\": 512,\n",
       "  \"model_type\": \"bert\",\n",
       "  \"num_attention_heads\": 12,\n",
       "  \"num_hidden_layers\": 12,\n",
       "  \"pad_token_id\": 0,\n",
       "  \"position_embedding_type\": \"absolute\",\n",
       "  \"torch_dtype\": \"float32\",\n",
       "  \"transformers_version\": \"4.50.3\",\n",
       "  \"type_vocab_size\": 2,\n",
       "  \"use_cache\": true,\n",
       "  \"vocab_size\": 30522\n",
       "}"
      ]
     },
     "execution_count": 27,
     "metadata": {},
     "output_type": "execute_result"
    }
   ],
   "source": [
    "model.config"
   ]
  },
  {
   "cell_type": "code",
   "execution_count": 28,
   "metadata": {
    "colab": {
     "base_uri": "https://localhost:8080/"
    },
    "id": "Uhgnt3ANiNcg",
    "outputId": "850f42d5-71df-4065-f7cd-6705e84234be"
   },
   "outputs": [
    {
     "name": "stderr",
     "output_type": "stream",
     "text": [
      "/usr/local/lib/python3.11/dist-packages/transformers/training_args.py:1611: FutureWarning: `evaluation_strategy` is deprecated and will be removed in version 4.46 of 🤗 Transformers. Use `eval_strategy` instead\n",
      "  warnings.warn(\n"
     ]
    }
   ],
   "source": [
    "from transformers import TrainingArguments\n",
    "\n",
    "batch_size = 64\n",
    "training_dir = \"bert_base_train_dir\"\n",
    "\n",
    "training_args = TrainingArguments( output_dir=training_dir,\n",
    "                                  overwrite_output_dir = True,\n",
    "                                  num_train_epochs = 5,\n",
    "                                  learning_rate = 2e-5,\n",
    "                                  per_device_train_batch_size = batch_size,\n",
    "                                  per_device_eval_batch_size = batch_size,\n",
    "                                  weight_decay = 0.01,\n",
    "                                  evaluation_strategy = 'epoch',\n",
    "                                  disable_tqdm = False,\n",
    "                                  report_to=\"none\"\n",
    ")"
   ]
  },
  {
   "cell_type": "code",
   "execution_count": 29,
   "metadata": {
    "id": "mXcKieO0xww9"
   },
   "outputs": [],
   "source": [
    "# use sklearn to build compute metrics\n",
    "from sklearn.metrics import accuracy_score, f1_score\n",
    "\n",
    "def compute_metrics(pred):\n",
    "    labels = pred.label_ids\n",
    "    preds = pred.predictions.argmax(-1)\n",
    "\n",
    "    f1 = f1_score(labels, preds, average=\"weighted\")\n",
    "    acc = accuracy_score(labels, preds)\n",
    "\n",
    "    return {\"accuracy\": acc, \"f1\": f1}\n"
   ]
  },
  {
   "cell_type": "markdown",
   "metadata": {
    "id": "s1Th953cx8Hz"
   },
   "source": [
    "## Build Model and Trainer"
   ]
  },
  {
   "cell_type": "code",
   "execution_count": 30,
   "metadata": {
    "colab": {
     "base_uri": "https://localhost:8080/"
    },
    "id": "lANxzE1Dx6eN",
    "outputId": "132c67e2-45f3-4f12-f4b5-7e355e941fca"
   },
   "outputs": [
    {
     "name": "stderr",
     "output_type": "stream",
     "text": [
      "<ipython-input-30-8efc9adb5e63>:3: FutureWarning: `tokenizer` is deprecated and will be removed in version 5.0.0 for `Trainer.__init__`. Use `processing_class` instead.\n",
      "  trainer = Trainer(model=model, args=training_args,\n"
     ]
    }
   ],
   "source": [
    "from transformers import Trainer\n",
    "\n",
    "trainer = Trainer(model=model, args=training_args,\n",
    "                  compute_metrics=compute_metrics,\n",
    "                  train_dataset = emotion_encoded['train'],\n",
    "                  eval_dataset = emotion_encoded['validation'],\n",
    "                  tokenizer = tokenizer\n",
    "                  )"
   ]
  },
  {
   "cell_type": "code",
   "execution_count": 31,
   "metadata": {
    "colab": {
     "base_uri": "https://localhost:8080/",
     "height": 267
    },
    "id": "6NO3F6zWyBIP",
    "outputId": "af243fb9-d2e8-4717-bde3-97769cda601f"
   },
   "outputs": [
    {
     "data": {
      "text/html": [
       "\n",
       "    <div>\n",
       "      \n",
       "      <progress value='875' max='875' style='width:300px; height:20px; vertical-align: middle;'></progress>\n",
       "      [875/875 12:28, Epoch 5/5]\n",
       "    </div>\n",
       "    <table border=\"1\" class=\"dataframe\">\n",
       "  <thead>\n",
       " <tr style=\"text-align: left;\">\n",
       "      <th>Epoch</th>\n",
       "      <th>Training Loss</th>\n",
       "      <th>Validation Loss</th>\n",
       "      <th>Accuracy</th>\n",
       "      <th>F1</th>\n",
       "    </tr>\n",
       "  </thead>\n",
       "  <tbody>\n",
       "    <tr>\n",
       "      <td>1</td>\n",
       "      <td>No log</td>\n",
       "      <td>0.397319</td>\n",
       "      <td>0.880000</td>\n",
       "      <td>0.872493</td>\n",
       "    </tr>\n",
       "    <tr>\n",
       "      <td>2</td>\n",
       "      <td>No log</td>\n",
       "      <td>0.197663</td>\n",
       "      <td>0.925000</td>\n",
       "      <td>0.924733</td>\n",
       "    </tr>\n",
       "    <tr>\n",
       "      <td>3</td>\n",
       "      <td>0.507000</td>\n",
       "      <td>0.142853</td>\n",
       "      <td>0.939375</td>\n",
       "      <td>0.939129</td>\n",
       "    </tr>\n",
       "    <tr>\n",
       "      <td>4</td>\n",
       "      <td>0.507000</td>\n",
       "      <td>0.143381</td>\n",
       "      <td>0.936875</td>\n",
       "      <td>0.936759</td>\n",
       "    </tr>\n",
       "    <tr>\n",
       "      <td>5</td>\n",
       "      <td>0.507000</td>\n",
       "      <td>0.142883</td>\n",
       "      <td>0.934375</td>\n",
       "      <td>0.934401</td>\n",
       "    </tr>\n",
       "  </tbody>\n",
       "</table><p>"
      ],
      "text/plain": [
       "<IPython.core.display.HTML object>"
      ]
     },
     "metadata": {},
     "output_type": "display_data"
    },
    {
     "data": {
      "text/plain": [
       "TrainOutput(global_step=875, training_loss=0.3344004690987723, metrics={'train_runtime': 750.6652, 'train_samples_per_second': 74.601, 'train_steps_per_second': 1.166, 'total_flos': 2244746806848000.0, 'train_loss': 0.3344004690987723, 'epoch': 5.0})"
      ]
     },
     "execution_count": 31,
     "metadata": {},
     "output_type": "execute_result"
    }
   ],
   "source": [
    "trainer.train()"
   ]
  },
  {
   "cell_type": "markdown",
   "metadata": {
    "id": "jHD11xXRyyft"
   },
   "source": [
    "## Model Evaluation"
   ]
  },
  {
   "cell_type": "code",
   "execution_count": 32,
   "metadata": {
    "colab": {
     "base_uri": "https://localhost:8080/",
     "height": 121
    },
    "id": "mTuAKWHdyBi8",
    "outputId": "e24bfb8c-5267-4cd9-c5f7-76c9c03f63af"
   },
   "outputs": [
    {
     "data": {
      "text/html": [],
      "text/plain": [
       "<IPython.core.display.HTML object>"
      ]
     },
     "metadata": {},
     "output_type": "display_data"
    },
    {
     "data": {
      "text/plain": [
       "{'test_loss': 0.15658076107501984,\n",
       " 'test_accuracy': 0.9284375,\n",
       " 'test_f1': 0.9288387465837837,\n",
       " 'test_runtime': 14.4973,\n",
       " 'test_samples_per_second': 220.73,\n",
       " 'test_steps_per_second': 3.449}"
      ]
     },
     "execution_count": 32,
     "metadata": {},
     "output_type": "execute_result"
    }
   ],
   "source": [
    "preds_output = trainer.predict(emotion_encoded['test'])\n",
    "preds_output.metrics"
   ]
  },
  {
   "cell_type": "code",
   "execution_count": 34,
   "metadata": {
    "id": "ESO04ZCG_z5i"
   },
   "outputs": [],
   "source": [
    "import numpy as np"
   ]
  },
  {
   "cell_type": "code",
   "execution_count": 35,
   "metadata": {
    "id": "1k4nVeXUy0VT"
   },
   "outputs": [],
   "source": [
    "y_pred = np.argmax(preds_output.predictions, axis=1)\n",
    "y_true = emotion_encoded['test'][:]['label']"
   ]
  },
  {
   "cell_type": "code",
   "execution_count": 36,
   "metadata": {
    "colab": {
     "base_uri": "https://localhost:8080/"
    },
    "id": "IrYy9WAfy3Sz",
    "outputId": "23b507f6-82e6-4c44-d166-5b2916f52583"
   },
   "outputs": [
    {
     "name": "stdout",
     "output_type": "stream",
     "text": [
      "              precision    recall  f1-score   support\n",
      "\n",
      "           0       0.96      0.97      0.97       933\n",
      "           1       0.97      0.94      0.95      1072\n",
      "           2       0.83      0.90      0.86       261\n",
      "           3       0.92      0.91      0.92       432\n",
      "           4       0.87      0.89      0.88       387\n",
      "           5       0.78      0.78      0.78       115\n",
      "\n",
      "    accuracy                           0.93      3200\n",
      "   macro avg       0.89      0.90      0.89      3200\n",
      "weighted avg       0.93      0.93      0.93      3200\n",
      "\n"
     ]
    }
   ],
   "source": [
    "from sklearn.metrics import classification_report\n",
    "print(classification_report(y_true, y_pred))"
   ]
  },
  {
   "cell_type": "code",
   "execution_count": 38,
   "metadata": {
    "id": "5QLZxmVqy5u7"
   },
   "outputs": [],
   "source": [
    "# plot confusion matrix\n",
    "import seaborn as sns\n",
    "from sklearn.metrics import confusion_matrix\n",
    "import matplotlib.pyplot as plt"
   ]
  },
  {
   "cell_type": "code",
   "execution_count": 41,
   "metadata": {
    "colab": {
     "base_uri": "https://localhost:8080/",
     "height": 445
    },
    "id": "efZRIITsy7SM",
    "outputId": "1ef7503a-9381-453a-fa35-8c625fc27d91"
   },
   "outputs": [
    {
     "data": {
      "image/png": "[encoded data removed]",
      "text/plain": [
       "<Figure size 500x500 with 1 Axes>"
      ]
     },
     "metadata": {},
     "output_type": "display_data"
    }
   ],
   "source": [
    "cm = confusion_matrix(y_true, y_pred)\n",
    "\n",
    "plt.figure(figsize=(5,5))\n",
    "sns.heatmap(cm, annot=True, xticklabels=label2id.keys(), yticklabels=label2id.keys(), fmt='d', cbar=False, cmap='Blues')\n",
    "plt.show()"
   ]
  },
  {
   "cell_type": "markdown",
   "metadata": {
    "id": "jRXvykDTCrrn"
   },
   "source": [
    "## Saving Model"
   ]
  },
  {
   "cell_type": "code",
   "execution_count": 43,
   "metadata": {
    "colab": {
     "base_uri": "https://localhost:8080/",
     "height": 35
    },
    "id": "SDXR0qwpCu7D",
    "outputId": "a9448100-0357-4443-9ae2-7565b4cf003a"
   },
   "outputs": [
    {
     "data": {
      "application/vnd.google.colaboratory.intrinsic+json": {
       "type": "string"
      },
      "text/plain": [
       "'joy'"
      ]
     },
     "execution_count": 43,
     "metadata": {},
     "output_type": "execute_result"
    }
   ],
   "source": [
    "text = \"I feel excited for today\"\n",
    "\n",
    "def get_prediction(text):\n",
    "    input_encoded = tokenizer(text, return_tensors='pt').to(device)\n",
    "\n",
    "    with torch.no_grad():\n",
    "        outputs = model(**input_encoded)\n",
    "\n",
    "    logits = outputs.logits\n",
    "\n",
    "    pred = torch.argmax(logits, dim=1).item()\n",
    "    return id2label[pred]\n",
    "\n",
    "get_prediction(text)"
   ]
  },
  {
   "cell_type": "code",
   "execution_count": 44,
   "metadata": {
    "id": "OKTJ1uGSC8KO"
   },
   "outputs": [],
   "source": [
    "trainer.save_model(\"bert-base-uncased-sentiment-model\")"
   ]
  },
  {
   "cell_type": "code",
   "execution_count": 45,
   "metadata": {
    "colab": {
     "base_uri": "https://localhost:8080/"
    },
    "id": "UE4MzolRDCSj",
    "outputId": "c6e1832a-04af-4b4d-d136-5ea855ebbbe4"
   },
   "outputs": [
    {
     "name": "stderr",
     "output_type": "stream",
     "text": [
      "Device set to use cuda:0\n"
     ]
    },
    {
     "data": {
      "text/plain": [
       "[{'label': 'joy', 'score': 0.9935629367828369},\n",
       " {'label': 'joy', 'score': 0.9495819807052612},\n",
       " {'label': 'love', 'score': 0.9350161552429199},\n",
       " {'label': 'sadness', 'score': 0.9954659938812256}]"
      ]
     },
     "execution_count": 45,
     "metadata": {},
     "output_type": "execute_result"
    }
   ],
   "source": [
    "# use pipeline for prediciton\n",
    "from transformers import pipeline\n",
    "\n",
    "classifier = pipeline('text-classification', model= 'bert-base-uncased-sentiment-model')\n",
    "\n",
    "classifier([text, 'hello, how are you?', \"love you\", \"i am feeling low\"])"
   ]
  },
  {
   "cell_type": "code",
   "execution_count": 2,
   "metadata": {},
   "outputs": [
    {
     "name": "stdout",
     "output_type": "stream",
     "text": [
      "Requirement already satisfied: nbformat in c:\\users\\raj\\appdata\\local\\programs\\python\\python312\\lib\\site-packages (5.10.4)\n",
      "Requirement already satisfied: fastjsonschema>=2.15 in c:\\users\\raj\\appdata\\local\\programs\\python\\python312\\lib\\site-packages (from nbformat) (2.21.1)\n",
      "Requirement already satisfied: jsonschema>=2.6 in c:\\users\\raj\\appdata\\local\\programs\\python\\python312\\lib\\site-packages (from nbformat) (4.23.0)\n",
      "Requirement already satisfied: jupyter-core!=5.0.*,>=4.12 in c:\\users\\raj\\appdata\\roaming\\python\\python312\\site-packages (from nbformat) (5.7.2)\n",
      "Requirement already satisfied: traitlets>=5.1 in c:\\users\\raj\\appdata\\roaming\\python\\python312\\site-packages (from nbformat) (5.14.3)\n",
      "Requirement already satisfied: attrs>=22.2.0 in c:\\users\\raj\\appdata\\local\\programs\\python\\python312\\lib\\site-packages (from jsonschema>=2.6->nbformat) (25.1.0)\n",
      "Requirement already satisfied: jsonschema-specifications>=2023.03.6 in c:\\users\\raj\\appdata\\local\\programs\\python\\python312\\lib\\site-packages (from jsonschema>=2.6->nbformat) (2024.10.1)\n",
      "Requirement already satisfied: referencing>=0.28.4 in c:\\users\\raj\\appdata\\local\\programs\\python\\python312\\lib\\site-packages (from jsonschema>=2.6->nbformat) (0.36.2)\n",
      "Requirement already satisfied: rpds-py>=0.7.1 in c:\\users\\raj\\appdata\\local\\programs\\python\\python312\\lib\\site-packages (from jsonschema>=2.6->nbformat) (0.23.1)\n",
      "Requirement already satisfied: platformdirs>=2.5 in c:\\users\\raj\\appdata\\roaming\\python\\python312\\site-packages (from jupyter-core!=5.0.*,>=4.12->nbformat) (4.3.6)\n",
      "Requirement already satisfied: pywin32>=300 in c:\\users\\raj\\appdata\\roaming\\python\\python312\\site-packages (from jupyter-core!=5.0.*,>=4.12->nbformat) (308)\n",
      "Requirement already satisfied: typing-extensions>=4.4.0 in c:\\users\\raj\\appdata\\local\\programs\\python\\python312\\lib\\site-packages (from referencing>=0.28.4->jsonschema>=2.6->nbformat) (4.12.2)\n"
     ]
    },
    {
     "name": "stderr",
     "output_type": "stream",
     "text": [
      "\n",
      "[notice] A new release of pip is available: 24.3.1 -> 25.0.1\n",
      "[notice] To update, run: python.exe -m pip install --upgrade pip\n"
     ]
    }
   ],
   "source": [
    "!pip install nbformat"
   ]
  },
  {
   "cell_type": "code",
   "execution_count": 2,
   "metadata": {},
   "outputs": [
    {
     "name": "stderr",
     "output_type": "stream",
     "text": [
      "Traceback (most recent call last):\n",
      "  File \"c:\\Users\\RAJ\\Downloads\\BERT_Fine_Tuning_Twitter_Sentiment_Analysis\\clean_widgets.py\", line 5, in <module>\n",
      "    with open(sys.argv[1], 'r', encoding='utf-8') as f:\n",
      "         ^^^^^^^^^^^^^^^^^^^^^^^^^^^^^^^^^^^^^^^^\n",
      "FileNotFoundError: [Errno 2] No such file or directory: 'your_notebook.ipynb'\n"
     ]
    }
   ],
   "source": [
    "!python clean_widgets.py your_notebook.ipynb"
   ]
  },
  {
   "cell_type": "code",
   "execution_count": null,
   "metadata": {},
   "outputs": [],
   "source": []
  }
 ],
 "metadata": {
  "accelerator": "GPU",
  "colab": {
   "gpuType": "T4",
   "provenance": []
  },
  "kernelspec": {
   "display_name": "Python 3",
   "name": "python3"
  },
  "language_info": {
   "codemirror_mode": {
    "name": "ipython",
    "version": 3
   },
   "file_extension": ".py",
   "mimetype": "text/x-python",
   "name": "python",
   "nbconvert_exporter": "python",
   "pygments_lexer": "ipython3",
   "version": "3.12.3"
  }
 },
 "nbformat": 4,
 "nbformat_minor": 0
}
